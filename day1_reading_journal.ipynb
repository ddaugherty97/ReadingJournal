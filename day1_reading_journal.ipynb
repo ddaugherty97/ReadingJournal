{
 "cells": [
  {
   "cell_type": "markdown",
   "metadata": {},
   "source": [
    "# Day 1 Reading Journal\n",
    "\n",
    "Hi everyone.  These are the exercises for the first set of readings from ThinkPython.  While this journal consists of several required exercises, it is meant to encourage active reading more generally.  You should use this journal to take detailed notes, catalog questions, and explore the content from ThinkPython deeply.\n",
    "\n",
    "For more information on using the Jupyter notebook, check out the documentation [here](http://nbviewer.jupyter.org/github/jupyter/notebook/blob/master/docs/source/examples/Notebook/Examples%20and%20Tutorials%20Index.ipynb).  Additionally, in order to write text in this document, you will be making use of markdown cells. A handy cheatsheet for markdown is available [here](https://github.com/adam-p/markdown-here/wiki/Markdown-Cheatsheet)."
   ]
  },
  {
   "cell_type": "markdown",
   "metadata": {},
   "source": [
    "## Chapter 1 Notes\n",
    "\n",
    "#### 1.1\n",
    "1. Python is a high level programming language\n",
    "2. Uses the prompt to execute lines of code or scripts\n",
    "3. Programming in the promt is called interactive mode and programming scripts is called script mode\n",
    "4. Interpreters read and execute programs to produce output or whatever the code is telling the computer to do\n",
    "5. Compilers translate the code before the program executes so that the program can be understood by the programming application\n",
    "\n",
    "#### 1.3\n",
    "5. A program can have several types of errors: syntax, runtime, and semantic\n",
    "6. Syntax errors refer to improper structure of programming language\n",
    "7. Runtime errors refer to errors that occur while the program is running\n",
    "8. Semantic errors are errors that do not prevent the program from running but should be fixed\n",
    "\n",
    "#### 1.4\n",
    "9. Programming is a formal language that uses tokens (words, numbers, chemical elements) and structure (the way tokens are arranged)\n",
    "10. Formal languages are much more concise and less redundant than everyday language\n",
    "\n",
    "#### 1.6\n",
    "11. Debugging can be very frustrating\n",
    "12. Patience is a virtue"
   ]
  },
  {
   "cell_type": "markdown",
   "metadata": {},
   "source": [
    "### Exercise 3\n",
    "\n",
    "Type `help()` to start the online help utility. Or you can type help('print') to get information about the print statement.  You should type `q` and then hit `enter` in the text box to exit the help utility. \n",
    "\n",
    "Note: this exercise is pretty simple (and there's not much to put in the box)!  We just want to make sure that you have tried out this super-handy feature of Python!"
   ]
  },
  {
   "cell_type": "code",
   "execution_count": 1,
   "metadata": {
    "collapsed": false
   },
   "outputs": [
    {
     "name": "stdout",
     "output_type": "stream",
     "text": [
      "\n",
      "Welcome to Python 2.7!  This is the online help utility.\n",
      "\n",
      "If this is your first time using Python, you should definitely check out\n",
      "the tutorial on the Internet at http://docs.python.org/2.7/tutorial/.\n",
      "\n",
      "Enter the name of any module, keyword, or topic to get help on writing\n",
      "Python programs and using Python modules.  To quit this help utility and\n",
      "return to the interpreter, just type \"quit\".\n",
      "\n",
      "To get a list of available modules, keywords, or topics, type \"modules\",\n",
      "\"keywords\", or \"topics\".  Each module also comes with a one-line summary\n",
      "of what it does; to list the modules whose summaries contain a given word\n",
      "such as \"spam\", type \"modules spam\".\n",
      "\n",
      "help> modules\n"
     ]
    },
    {
     "name": "stderr",
     "output_type": "stream",
     "text": [
      "/usr/local/lib/python2.7/dist-packages/IPython/kernel/__init__.py:13: ShimWarning: The `IPython.kernel` package has been deprecated. You should import from ipykernel or jupyter_client instead.\n",
      "  \"You should import from ipykernel or jupyter_client instead.\", ShimWarning)\n",
      "/usr/lib/python2.7/dist-packages/gobject/constants.py:24: Warning: g_boxed_type_register_static: assertion 'g_type_from_name (name) == 0' failed\n",
      "  import gobject._gobject\n"
     ]
    },
    {
     "name": "stdout",
     "output_type": "stream",
     "text": [
      "\n",
      "Please wait a moment while I gather a list of all available modules...\n",
      "\n",
      "ANSI                apt                 htmlentitydefs      rmagic\n",
      "BaseHTTPServer      apt_inst            htmllib             robotparser\n",
      "Bastion             apt_pkg             httplib             runpy\n",
      "CDROM               aptdaemon           httplib2            samba\n",
      "CGIHTTPServer       aptsources          ibus                scanext\n",
      "Canvas              argparse            ihooks              sched\n",
      "CommandNotFound     array               imaplib             screen\n",
      "ConfigParser        ast                 imghdr              select\n",
      "Cookie              asynchat            imp                 serial\n",
      "Crypto              asyncore            importlib           sessioninstaller\n",
      "DLFCN               atexit              imputil             sets\n",
      "Dialog              atk                 indicator_keyboard  setuptools\n",
      "DocXMLRPCServer     audiodev            inspect             sgmllib\n",
      "FSM                 audioop             io                  sha\n",
      "FileDialog          autoreload          ipykernel           shelve\n",
      "FixTk               axi                 ipython_genutils    shlex\n",
      "HTMLParser          backports           ipywidgets          shutil\n",
      "IN                  backports_abc       itertools           signal\n",
      "IPython             base64              jinja2              simplegeneric\n",
      "Image               bdb                 json                singledispatch\n",
      "ImageChops          binascii            jsonschema          singledispatch_helpers\n",
      "ImageColor          binhex              jupyter             sip\n",
      "ImageCrackCode      bisect              jupyter_client      sipconfig\n",
      "ImageDraw           bsddb               jupyter_console     sipconfig_nd\n",
      "ImageEnhance        bz2                 jupyter_core        site\n",
      "ImageFile           cPickle             keyword             sitecustomize\n",
      "ImageFileIO         cProfile            ldb                 six\n",
      "ImageFilter         cStringIO           lib2to3             smbc\n",
      "ImageFont           cairo               libxml2             smtpd\n",
      "ImageGL             calendar            libxml2mod          smtplib\n",
      "ImageGrab           certifi             linecache           sndhdr\n",
      "ImageMath           cgi                 linuxaudiodev       socket\n",
      "ImageOps            cgitb               locale              softwarecenter_aptd_plugins\n",
      "ImagePalette        chardet             lockfile            spwd\n",
      "ImagePath           chunk               logging             sqlite3\n",
      "ImageQt             cmath               lsb_release         sre\n",
      "ImageSequence       cmd                 lxml                sre_compile\n",
      "ImageStat           code                macpath             sre_constants\n",
      "ImageTk             codecs              macurl2path         sre_parse\n",
      "ImageWin            codeop              mailbox             ssl\n",
      "MimeWriter          collections         mailcap             stat\n",
      "OpenSSL             colorama            markupbase          statvfs\n",
      "PAM                 colorsys            markupsafe          storemagic\n",
      "PIL                 command             marshal             string\n",
      "PSDraw              commands            math                stringold\n",
      "PngImagePlugin      compileall          md5                 stringprep\n",
      "PyQt4               compiler            mhlib               strop\n",
      "Queue               contextlib          mimetools           struct\n",
      "ScrolledText        cookielib           mimetypes           subprocess\n",
      "SimpleDialog        copy                mimify              sunau\n",
      "SimpleHTTPServer    copy_reg            mistune             sunaudio\n",
      "SimpleXMLRPCServer  crypt               mmap                swampy\n",
      "SocketServer        csv                 modulefinder        symbol\n",
      "StringIO            ctypes              multifile           sympyprinting\n",
      "TYPES               cups                multiprocessing     symtable\n",
      "Tix                 cupsext             mutex               sys\n",
      "Tkconstants         cupshelpers         nbconvert           sysconfig\n",
      "Tkdnd               curses              nbformat            syslog\n",
      "Tkinter             cythonmagic         netrc               tabnanny\n",
      "UbuntuSystemService datetime            new                 talloc\n",
      "UserDict            dbhash              nis                 tarfile\n",
      "UserList            dbm                 nntplib             tdb\n",
      "UserString          dbus                notebook            telnetlib\n",
      "_LWPCookieJar       deb822              ntdb                tempfile\n",
      "_MozillaCookieJar   debconf             ntpath              terminado\n",
      "__builtin__         debian              nturl2path          termios\n",
      "__future__          debian_bundle       numbers             test\n",
      "_abcoll             debtagshw           oauthlib            test_path\n",
      "_ast                decimal             oneconf             tests\n",
      "_bisect             decorator           opcode              textwrap\n",
      "_bsddb              defer               operator            this\n",
      "_codecs             difflib             optparse            thread\n",
      "_codecs_cn          dircache            os                  threading\n",
      "_codecs_hk          dirspec             os2emxpath          time\n",
      "_codecs_iso2022     dis                 ossaudiodev         timeit\n",
      "_codecs_jp          distlib             pango               tkColorChooser\n",
      "_codecs_kr          distutils           pangocairo          tkCommonDialog\n",
      "_codecs_tw          doctest             parser              tkFileDialog\n",
      "_collections        drv_libxml2         path                tkFont\n",
      "_csv                dsextras            pcardext            tkMessageBox\n",
      "_ctypes             dumbdbm             pdb                 tkSimpleDialog\n",
      "_ctypes_test        dummy_thread        pexpect             toaiff\n",
      "_curses             dummy_threading     pickle              token\n",
      "_curses_panel       duplicity           pickleshare         tokenize\n",
      "_dbus_bindings      easy_install        pickletools         tornado\n",
      "_dbus_glib_bindings email               pip                 trace\n",
      "_elementtree        encodings           pipes               traceback\n",
      "_functools          errno               piston_mini_client  traitlets\n",
      "_hashlib            exceptions          pkg_resources       ttk\n",
      "_heapq              fcntl               pkgutil             tty\n",
      "_hotshot            fdpexpect           platform            turtle\n",
      "_io                 filecmp             plistlib            twisted\n",
      "_json               fileinput           popen2              types\n",
      "_locale             fnmatch             poplib              ubuntu_sso\n",
      "_lsprof             formatter           posix               unicodedata\n",
      "_markerlib          fpectl              posixfile           unittest\n",
      "_md5                fpformat            posixpath           urllib\n",
      "_multibytecodec     fractions           pprint              urllib2\n",
      "_multiprocessing    ftplib              profile             urllib3\n",
      "_osx_support        functools           pstats              urlparse\n",
      "_pyio               functools32         pty                 user\n",
      "_random             future_builtins     ptyprocess          uu\n",
      "_sha                gc                  pwd                 uuid\n",
      "_sha256             gconf               pxssh               warnings\n",
      "_sha512             gdbm                py_compile          wave\n",
      "_smbc               genericpath         pyclbr              weakref\n",
      "_socket             getopt              pydoc               webbrowser\n",
      "_sqlite3            getpass             pydoc_data          wheel\n",
      "_sre                gettext             pyexpat             whichdb\n",
      "_ssl                gi                  pygments            wsgiref\n",
      "_strptime           gio                 pygtk               xapian\n",
      "_struct             glib                pygtkcompat         xdg\n",
      "_symtable           glob                pynotify            xdiagnose\n",
      "_sysconfigdata      gnomekeyring        qtconsole           xdrlib\n",
      "_sysconfigdata_nd   gobject             quopri              xml\n",
      "_testcapi           grp                 random              xmllib\n",
      "_threading_local    gtk                 re                  xmlrpclib\n",
      "_tkinter            gtkunixprint        readline            xxsubtype\n",
      "_warnings           gzip                reportlab           zeitgeist\n",
      "_weakref            hashlib             repr                zipfile\n",
      "_weakrefset         heapq               requests            zipimport\n",
      "abc                 hmac                resource            zlib\n",
      "aifc                hotshot             rexec               zmq\n",
      "antigravity         hpmudext            rfc822              zope\n",
      "anydbm              html5lib            rlcompleter         \n",
      "\n",
      "Enter any module name to get more help.  Or, type \"modules spam\" to search\n",
      "for modules whose descriptions contain the word \"spam\".\n",
      "\n",
      "help> quit\n",
      "\n",
      "You are now leaving help and returning to the Python interpreter.\n",
      "If you want to ask for help on a particular object directly from the\n",
      "interpreter, you can type \"help(object)\".  Executing \"help('string')\"\n",
      "has the same effect as typing a particular string at the help> prompt.\n"
     ]
    }
   ],
   "source": [
    "help()"
   ]
  },
  {
   "cell_type": "markdown",
   "metadata": {},
   "source": [
    "### Exercise 4  \n",
    "\n",
    "Start the Python interpreter and use it as a calculator. Python’s syntax for math operations is almost the same as standard mathematical notation. For example, the symbols +, - and / denote addition, subtraction and division, as you would expect. The symbol for multiplication is *.\n",
    "\n",
    "If you run a 10 kilometer race in 43 minutes 30 seconds, what is your average time per mile? What is your average speed in miles per hour? (Hint: there are 1.61 kilometers in a mile). "
   ]
  },
  {
   "cell_type": "code",
   "execution_count": 3,
   "metadata": {
    "collapsed": false
   },
   "outputs": [
    {
     "data": {
      "text/plain": [
       "6.211180124223602"
      ]
     },
     "execution_count": 3,
     "metadata": {},
     "output_type": "execute_result"
    }
   ],
   "source": [
    "10/1.61"
   ]
  },
  {
   "cell_type": "code",
   "execution_count": 4,
   "metadata": {
    "collapsed": false
   },
   "outputs": [
    {
     "data": {
      "text/plain": [
       "7.003500000000001"
      ]
     },
     "execution_count": 4,
     "metadata": {},
     "output_type": "execute_result"
    }
   ],
   "source": [
    "43.5/6.211180124223602"
   ]
  },
  {
   "cell_type": "markdown",
   "metadata": {},
   "source": [
    "Average Time per Mile = 7 mins"
   ]
  },
  {
   "cell_type": "code",
   "execution_count": 10,
   "metadata": {
    "collapsed": false
   },
   "outputs": [
    {
     "data": {
      "text/plain": [
       "8.571428571428571"
      ]
     },
     "execution_count": 10,
     "metadata": {},
     "output_type": "execute_result"
    }
   ],
   "source": [
    "60.0/7.0"
   ]
  },
  {
   "cell_type": "markdown",
   "metadata": {},
   "source": [
    "Average speed in miles per hour = 8.571"
   ]
  },
  {
   "cell_type": "markdown",
   "metadata": {},
   "source": [
    "## Chapter 2\n",
    "\n",
    "#### 2.1\n",
    "1. Values are letters or numbers that variables can be assigned to\n",
    "2. Numbers represented in a floating-point have a decimal\n",
    "3. Anything between quotation marks are strings\n",
    "\n",
    "#### 2.2\n",
    "1. A variable is an assignment statement that assigns a value to something\n",
    "2. The type of a variable is the type of value it refers to such as float, boolean, or integer\n",
    "\n",
    "#### 2.4\n",
    "1. Floor division cuts of the decimal points and occurs when both of the operands are integers\n",
    "2. The operateor // performs floor division\n",
    "\n",
    "#### 2.8\n",
    "1. Operators concatenate strings together\n",
    "2. The * operator repeats the string multiple times\n",
    "\n",
    "#### 2.9\n",
    "1. Comments in python are starte with the # sign\n",
    "2. Comments help make the code more understandable"
   ]
  },
  {
   "cell_type": "markdown",
   "metadata": {},
   "source": [
    "### Exercise 2  \n",
    "\n",
    "Assume that we execute the following assignment statements:\n",
    "\n",
    "width = 17\n",
    "height = 12.0\n",
    "delimiter = '.'\n",
    "\n",
    "For each of the following expressions, write the value of the expression and the type (of the value of the expression).\n",
    "\n",
    "1. `width/2`\n",
    "2. `width/2.0`\n",
    "3. `height/3`\n",
    "4. `1 + 2 * 5`\n",
    "5. `delimiter * 5`\n",
    "\n",
    "Please use the following markdown cell to provide your answer."
   ]
  },
  {
   "cell_type": "markdown",
   "metadata": {},
   "source": [
    "1. width/2 = 8\n",
    "2. width/2.0 = 8.0\n",
    "3. heigth/3 = 4.0\n",
    "4. 1 + 2 * 5 = 11\n",
    "5. delimiter * 5 = '.....'"
   ]
  },
  {
   "cell_type": "markdown",
   "metadata": {},
   "source": [
    "### Exercise 3  \n",
    "\n",
    "Practice using the Python interpreter as a calculator.  For each of these provide Python code that computes each answer.\n",
    "\n",
    "    \n"
   ]
  },
  {
   "cell_type": "markdown",
   "metadata": {},
   "source": [
    "The volume of a sphere with radius r is 4/3 $\\pi r^3$. What is the volume of a sphere with radius 5? Hint: 392.7 is wrong!"
   ]
  },
  {
   "cell_type": "code",
   "execution_count": 6,
   "metadata": {
    "collapsed": false
   },
   "outputs": [
    {
     "data": {
      "text/plain": [
       "523.3333333333334"
      ]
     },
     "execution_count": 6,
     "metadata": {},
     "output_type": "execute_result"
    }
   ],
   "source": [
    "(4.0/3.0)*3.14*125.0"
   ]
  },
  {
   "cell_type": "markdown",
   "metadata": {},
   "source": [
    "Suppose the cover price of a book is \\$24.95, but bookstores get a 40% discount. Shipping costs \\$3 for the first copy and 75 cents for each additional copy. What is the total wholesale cost for 60 copies?"
   ]
  },
  {
   "cell_type": "code",
   "execution_count": 7,
   "metadata": {
    "collapsed": false
   },
   "outputs": [
    {
     "data": {
      "text/plain": [
       "14.969999999999999"
      ]
     },
     "execution_count": 7,
     "metadata": {},
     "output_type": "execute_result"
    }
   ],
   "source": [
    "24.95 - (24.95*0.4)"
   ]
  },
  {
   "cell_type": "code",
   "execution_count": 9,
   "metadata": {
    "collapsed": false
   },
   "outputs": [
    {
     "data": {
      "text/plain": [
       "60.97"
      ]
     },
     "execution_count": 9,
     "metadata": {},
     "output_type": "execute_result"
    }
   ],
   "source": [
    "(12.97 + 3) + (.75*60)"
   ]
  },
  {
   "cell_type": "markdown",
   "metadata": {},
   "source": [
    "If I leave my house at 6:52 am and run 1 mile at an easy pace (8:15 per mile), then 3 miles at tempo (7:12 per mile) and 1 mile at easy pace again, what time do I get home for breakfast? "
   ]
  },
  {
   "cell_type": "code",
   "execution_count": 11,
   "metadata": {
    "collapsed": false
   },
   "outputs": [
    {
     "data": {
      "text/plain": [
       "37.66"
      ]
     },
     "execution_count": 11,
     "metadata": {},
     "output_type": "execute_result"
    }
   ],
   "source": [
    "(8.15)+(3*7.12)+(8.15)"
   ]
  },
  {
   "cell_type": "markdown",
   "metadata": {},
   "source": [
    "I will get back home 38:06 mins after 6:52.\n",
    "\n",
    "Answer = 7:29:06 am"
   ]
  },
  {
   "cell_type": "markdown",
   "metadata": {},
   "source": [
    "## Chapter 3\n",
    "\n",
    "#### 3.1\n",
    "1. Functions are a sequence of statements that can be called and executed\n",
    "2. Functions typically return a value or execute code\n",
    "\n",
    "#### 3.2 - 3.3\n",
    "1. Functions can be used for a variety of things such as converting values or other math\n",
    "2. Modules are a file that containg a bunch of related functions\n",
    "3. To access a function use dot notation (module.function)\n",
    "\n",
    "##### 3.5\n",
    "1. First line of a function is called the header and the rest is th body\n",
    "2. Header has to end with a colon\n",
    "3. Syntax for calling functions is name()\n",
    "\n",
    "#### 3.7\n",
    "1. Execution always begins at the first statement of the program\n",
    "2. Executed one at a time in order from top to bottom\n",
    "3. When program gets to a function it will go into the function script and run each line one at a time\n",
    "\n",
    "#### 3.8\n",
    "1. Parameters are values that are passed into a function\n",
    "2. Parameters are local to the functions they are in and can be used as a variable within the function\n",
    "3. Arguments are the values we send into functions as parameters\n",
    "\n",
    "#### 3.11\n",
    "1. Fruitful functions are functions that return a value\n",
    "2. Void functions dont return a value\n",
    "3. When calling fruitful functions you should be doing something that requires a value\n",
    "4. Void functions could display something on the screen or assign values to variables\n",
    "\n",
    "#### 3.13\n",
    "1. using the from with import helps when there are multiple variables with the same name within the same module\n",
    "2. syntax for from is:  from math import pi"
   ]
  },
  {
   "cell_type": "markdown",
   "metadata": {},
   "source": [
    "### Exercise 3\n",
    "\n",
    "Python provides a built-in function called len that returns the length of a string, so the value of len('allen') is 5.\n",
    "Write a function named right_justify that takes a string named s as a parameter and prints the string with enough leading spaces so that the last letter of the string is in column 70 of the display.\n",
    "\n",
    "```\n",
    ">>> right_justify('allen')\n",
    "                                                                 allen```\n",
    "                                                                 \n",
    "\n",
    "#### Answer\n",
    "\n",
    "def right_justify(name) \n",
    "\n",
    "    spaces = 70 \n",
    "    \n",
    "    length = len(name) \n",
    "    \n",
    "    print(' '*(spaces-length)+name) \n",
    "    \n",
    "right_justify('allen')"
   ]
  },
  {
   "cell_type": "markdown",
   "metadata": {},
   "source": [
    "### Exercise 5\n",
    "\n",
    "This exercise can be done using only the statements and other features we have learned so far.\n",
    "\n",
    "(a) Write a function that draws a grid like the following:\n",
    "```\n",
    "+ - - - - + - - - - +\n",
    "|         |         |\n",
    "|         |         |\n",
    "|         |         |\n",
    "|         |         |\n",
    "+ - - - - + - - - - +\n",
    "|         |         |\n",
    "|         |         |\n",
    "|         |         |\n",
    "|         |         |\n",
    "+ - - - - + - - - - +\n",
    "```\n",
    "**Hint:** to print more than one value on a line, you can print a comma-separated sequence:\n",
    "print '+', '-'\n",
    "If the sequence ends with a comma, Python leaves the line unfinished, so the value printed next appears on the same line.\n",
    "print '+', \n",
    "print '-'\n",
    "The output of these statements is '+ -'.\n",
    "A print statement all by itself ends the current line and goes to the next line."
   ]
  },
  {
   "cell_type": "code",
   "execution_count": 14,
   "metadata": {
    "collapsed": false
   },
   "outputs": [
    {
     "name": "stdout",
     "output_type": "stream",
     "text": [
      "+ - - - - + - - - - +\n",
      "|         |         |\n",
      "|         |         |\n",
      "|         |         |\n",
      "|         |         |\n",
      "+ - - - - + - - - - +\n",
      "|         |         |\n",
      "|         |         |\n",
      "|         |         |\n",
      "|         |         |\n",
      "+ - - - - + - - - - +\n"
     ]
    }
   ],
   "source": [
    "def cool_box():\n",
    "    print('+ - - - - + - - - - +')\n",
    "    print('|         |         |')\n",
    "    print('|         |         |')\n",
    "    print('|         |         |')\n",
    "    print('|         |         |')\n",
    "    print('+ - - - - + - - - - +')\n",
    "    print('|         |         |')\n",
    "    print('|         |         |')\n",
    "    print('|         |         |')\n",
    "    print('|         |         |')\n",
    "    print('+ - - - - + - - - - +')\n",
    "    \n",
    "cool_box()"
   ]
  },
  {
   "cell_type": "code",
   "execution_count": 24,
   "metadata": {
    "collapsed": false
   },
   "outputs": [
    {
     "name": "stdout",
     "output_type": "stream",
     "text": [
      "+ - - - - + - - - - + - - - - + - - - - + - - - - + - - - -  +\n",
      "|         |         |         |         |         |          |\n",
      "|         |         |         |         |         |          |\n",
      "|         |         |         |         |         |          |\n",
      "|         |         |         |         |         |          |\n",
      "|         |         |         |         |         |          |\n",
      "+ - - - - + - - - - + - - - - + - - - - + - - - - + - - - -  +\n",
      "|         |         |         |         |         |          |\n",
      "|         |         |         |         |         |          |\n",
      "|         |         |         |         |         |          |\n",
      "|         |         |         |         |         |          |\n",
      "|         |         |         |         |         |          |\n",
      "+ - - - - + - - - - + - - - - + - - - - + - - - - + - - - -  +\n",
      "|         |         |         |         |         |          |\n",
      "|         |         |         |         |         |          |\n",
      "|         |         |         |         |         |          |\n",
      "|         |         |         |         |         |          |\n",
      "|         |         |         |         |         |          |\n",
      "+ - - - - + - - - - + - - - - + - - - - + - - - - + - - - -  +\n"
     ]
    }
   ],
   "source": [
    "def draw_end(x,y):\n",
    "    String1 = ' -' * (y//2)\n",
    "    String2 = '+' + String1\n",
    "    String3 = String2 * x,'+'\n",
    "    print String3\n",
    "def draw_line(x,y):\n",
    "    \n",
    "    \n",
    "    \n",
    "    print'|         '*x, '|'\n",
    "    print'|         '*x, '|'\n",
    "    print'|         '*x, '|'\n",
    "    print'|         '*x, '|'\n",
    "    print'|         '*x, '|'\n",
    "def draw_Grid(a,b):\n",
    "    for x in range(0,a):\n",
    "        draw_end(b)\n",
    "        draw_line(b)\n",
    "    draw_end(b)\n",
    "           \n",
    "draw_Grid(3,6)\n",
    "     "
   ]
  },
  {
   "cell_type": "markdown",
   "metadata": {},
   "source": [
    "(b) Write a function that draws a similar grid with four rows and four columns."
   ]
  },
  {
   "cell_type": "code",
   "execution_count": 17,
   "metadata": {
    "collapsed": false
   },
   "outputs": [
    {
     "name": "stdout",
     "output_type": "stream",
     "text": [
      "+ - - - - + - - - - + - - - - + - - - - +\n",
      "|         |         |         |         |\n",
      "|         |         |         |         |\n",
      "|         |         |         |         |\n",
      "|         |         |         |         |\n",
      "+ - - - - + - - - - + - - - - + - - - - +\n",
      "|         |         |         |         |\n",
      "|         |         |         |         |\n",
      "|         |         |         |         |\n",
      "|         |         |         |         |\n",
      "+ - - - - + - - - - + - - - - + - - - - +\n",
      "|         |         |         |         |\n",
      "|         |         |         |         |\n",
      "|         |         |         |         |\n",
      "|         |         |         |         |\n",
      "+ - - - - + - - - - + - - - - + - - - - +\n",
      "|         |         |         |         |\n",
      "|         |         |         |         |\n",
      "|         |         |         |         |\n",
      "|         |         |         |         |\n",
      "+ - - - - + - - - - + - - - - + - - - - +\n"
     ]
    }
   ],
   "source": [
    "def cool_box():\n",
    "    print('+ - - - - + - - - - + - - - - + - - - - +')\n",
    "    print('|         |         |         |         |')\n",
    "    print('|         |         |         |         |')\n",
    "    print('|         |         |         |         |')\n",
    "    print('|         |         |         |         |')\n",
    "    print('+ - - - - + - - - - + - - - - + - - - - +')\n",
    "    print('|         |         |         |         |')\n",
    "    print('|         |         |         |         |')\n",
    "    print('|         |         |         |         |')\n",
    "    print('|         |         |         |         |')\n",
    "    print('+ - - - - + - - - - + - - - - + - - - - +')\n",
    "    print('|         |         |         |         |')\n",
    "    print('|         |         |         |         |')\n",
    "    print('|         |         |         |         |')\n",
    "    print('|         |         |         |         |')\n",
    "    print('+ - - - - + - - - - + - - - - + - - - - +')\n",
    "    print('|         |         |         |         |')\n",
    "    print('|         |         |         |         |')\n",
    "    print('|         |         |         |         |')\n",
    "    print('|         |         |         |         |')\n",
    "    print('+ - - - - + - - - - + - - - - + - - - - +')\n",
    "    \n",
    "cool_box()"
   ]
  },
  {
   "cell_type": "markdown",
   "metadata": {},
   "source": [
    "## Chapter 5.1 - 5.7\n",
    "\n",
    "#### 5.1\n",
    "1. the modulus operator yields the remaider of the first operand divided by the second\n",
    "2. Operator is the %\n",
    "\n",
    "#### 5.2\n",
    "1. boolean values are either true or false\n",
    "2. uses the operator ==\n",
    "3. produces true if the two operands are equal and false if not\n",
    "4. relational operators can be used for programming using logic\n",
    "\n",
    "#### 5.3 - 5.5\n",
    "1. Logical operators include <, >, ==\n",
    "2. Conditional statements allow the program to take certain paths depending on the current state of the program\n",
    "3. uses the if, else if, and else statement with logical operators\n",
    "\n",
    "#### 5.6 - 5.7\n",
    "1. Chained conditionals use the elseif and else commands\n",
    "2. Each condition is checked in order and executes the first one that is true\n",
    "3. nested conditionals will only execute if the one above them is completed"
   ]
  },
  {
   "cell_type": "markdown",
   "metadata": {},
   "source": [
    "### Exercise 3  \n",
    "\n",
    "Fermat’s Last Theorem says that there are no positive integers a, b, and c such that $a^n + b^n = c^n$ for any values of n greater than 2.\n",
    "\n",
    "(a) Write a function named `check_fermat` that takes four parameters—a, b, c and n—and that checks to see if Fermat’s theorem holds. If n is greater than 2 and it turns out to be true that\n",
    "$a^n + b^n = c^n$ the program should print, \"Holy smokes, Fermat was wrong!\" Otherwise the program should print, \"No, that doesn’t work.\""
   ]
  },
  {
   "cell_type": "code",
   "execution_count": 21,
   "metadata": {
    "collapsed": false
   },
   "outputs": [],
   "source": [
    "def check_fermat(a, b, c, n):\n",
    "    if ((a**n + b**n) == (c**n)):\n",
    "        print('Holy smokes, Fermat was wrong!')\n",
    "    else:\n",
    "        print('No, that does not work')"
   ]
  },
  {
   "cell_type": "markdown",
   "metadata": {},
   "source": [
    "(b) Write a function that prompts the user to input values for a, b, c and n, converts them to integers, and uses check_fermat to check whether they violate Fermat’s theorem."
   ]
  },
  {
   "cell_type": "code",
   "execution_count": 23,
   "metadata": {
    "collapsed": false
   },
   "outputs": [
    {
     "name": "stdout",
     "output_type": "stream",
     "text": [
      "No, that does not work\n"
     ]
    }
   ],
   "source": [
    "def convert_inputs(a, b, c, n):\n",
    "    a_input = int(a)\n",
    "    b_input = int(b)\n",
    "    c_input = int(c)\n",
    "    n_input = int(n)\n",
    "    check_fermat(a_input, b_input, c_input, n_input)   \n",
    "    \n",
    "convert_inputs('1', '2', '3', '4')    "
   ]
  },
  {
   "cell_type": "markdown",
   "metadata": {},
   "source": [
    "### Exercise 4  \n",
    "\n",
    "If you are given three sticks, you may or may not be able to arrange them in a triangle. For example, if one of the sticks is 12 inches long and the other two are one inch long, it is clear that you will not be able to get the short sticks to meet in the middle. For any three lengths, there is a simple test to see if it is possible to form a triangle:\n",
    "> If any of the three lengths is greater than the sum of the other two, then you cannot form a triangle. Otherwise, you can. (If the sum of two lengths equals the third, they form what is called a “degenerate” triangle.)\n",
    "\n",
    "(a) Write a function named `is_triangle` that takes three integers as arguments, and that prints either \"Yes\" or \"No,\" depending on whether you can or cannot form a triangle from sticks with the given lengths."
   ]
  },
  {
   "cell_type": "code",
   "execution_count": 35,
   "metadata": {
    "collapsed": false
   },
   "outputs": [
    {
     "name": "stdout",
     "output_type": "stream",
     "text": [
      "No\n"
     ]
    }
   ],
   "source": [
    "def is_triangle(a, b, c):\n",
    "    if (a+b < c):\n",
    "        print('No')\n",
    "    elif (a+c < b):\n",
    "        print('No')\n",
    "    elif (b+c < a):\n",
    "        print('No')\n",
    "    else:\n",
    "        print('Yes')\n",
    "        \n",
    "is_triangle(1,1,12)"
   ]
  },
  {
   "cell_type": "markdown",
   "metadata": {},
   "source": [
    "(b) Write a function that prompts the user to input three stick lengths, converts them to integers, and uses is_triangle to check whether sticks with the given lengths can form a triangle."
   ]
  },
  {
   "cell_type": "code",
   "execution_count": 36,
   "metadata": {
    "collapsed": false
   },
   "outputs": [
    {
     "name": "stdout",
     "output_type": "stream",
     "text": [
      "Yes\n"
     ]
    }
   ],
   "source": [
    "def convert_inputs(a, b, c):\n",
    "    a_input = int(a)\n",
    "    b_input = int(b)\n",
    "    c_input = int(c)\n",
    "    is_triangle(a_input, b_input, c_input) \n",
    "    \n",
    "convert_inputs('1','2','3')"
   ]
  },
  {
   "cell_type": "markdown",
   "metadata": {},
   "source": [
    "## Notes for the Instructors\n",
    "\n",
    "Please use the space below to write comments to help us plan the next class session.  For instance, if you want to see us go over an example of a particular type of problem, you can indicate that here.\n",
    "\n",
    "Please remember that the best way to get quick feedback from the instructors as well as your peers, is to use Piazza.  However, consider using this channel if it doesn't make sense to post your note to Piazza."
   ]
  },
  {
   "cell_type": "markdown",
   "metadata": {},
   "source": []
  }
 ],
 "metadata": {
  "kernelspec": {
   "display_name": "Python 2",
   "language": "python",
   "name": "python2"
  },
  "language_info": {
   "codemirror_mode": {
    "name": "ipython",
    "version": 2
   },
   "file_extension": ".py",
   "mimetype": "text/x-python",
   "name": "python",
   "nbconvert_exporter": "python",
   "pygments_lexer": "ipython2",
   "version": "2.7.6"
  }
 },
 "nbformat": 4,
 "nbformat_minor": 0
}

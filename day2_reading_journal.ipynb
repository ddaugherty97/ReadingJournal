{
 "cells": [
  {
   "cell_type": "markdown",
   "metadata": {},
   "source": [
    "# Day 2 Reading Journal\n",
    "\n",
    "This journal includes several required exercises, but it is meant to encourage active reading more generally.  You should use the journal to take detailed notes, catalog questions, and explore the content from Think Python deeply.\n",
    "\n",
    "Reading: Think Python Chapter 6.1-6.4, 7\n",
    "\n",
    "**Due: Thursday, January 28 at 12 noon**\n",
    "\n"
   ]
  },
  {
   "cell_type": "markdown",
   "metadata": {},
   "source": [
    "## [Chapter 6.1-6.4](http://www.greenteapress.com/thinkpython/html/thinkpython007.html)\n",
    "\n",
    "#### 6.1\n",
    "1. A function can generate and return a value when called\n",
    "2. Uses the command return\n",
    "3. Multiple return statements can be used for different paths the function takes\n",
    "4. Code that appears after a return statement is dead code\n",
    "5. Abs is absolute value in python\n",
    "\n",
    "#### 6.2\n",
    "1. Incremental development helps debug programs. Long chunks of code are hard to debug\n",
    "2. Long, complicated equations should be tackled incrementally, not all at once\n",
    "3. print statements within a large function are helpful for debugging\n",
    "\n",
    "#### 6.3\n",
    "1. calling one function from within another is called composition\n",
    "2. functions that return values can be assigned to variables in another function\n",
    "\n",
    "#### 6.4\n",
    "1. Boolean functions return either a true or false value"
   ]
  },
  {
   "cell_type": "markdown",
   "metadata": {},
   "source": [
    "**Quick check:** What is a _fruitful function_?\n",
    "\n",
    "Fruitful functions generate and return a value"
   ]
  },
  {
   "cell_type": "markdown",
   "metadata": {},
   "source": [
    " "
   ]
  },
  {
   "cell_type": "markdown",
   "metadata": {},
   "source": [
    "### Exercise 1  \n",
    "Write a `compare` function that returns `1` if `x > y`, `0` if `x == y`, and `-1` if `x < y`."
   ]
  },
  {
   "cell_type": "code",
   "execution_count": 1,
   "metadata": {
    "collapsed": false
   },
   "outputs": [
    {
     "data": {
      "text/plain": [
       "0"
      ]
     },
     "execution_count": 1,
     "metadata": {},
     "output_type": "execute_result"
    }
   ],
   "source": [
    "def compare(x,y):\n",
    "    if (x > y):\n",
    "        return 1\n",
    "    elif (x == y):\n",
    "        return 0\n",
    "    else:\n",
    "        return -1\n",
    "    \n",
    "compare(1,1)"
   ]
  },
  {
   "cell_type": "markdown",
   "metadata": {},
   "source": [
    "**Quick check:** Modify the `absolute_value` function so that it returns the correct result for all integer inputs."
   ]
  },
  {
   "cell_type": "code",
   "execution_count": 13,
   "metadata": {
    "collapsed": false
   },
   "outputs": [
    {
     "data": {
      "text/plain": [
       "0"
      ]
     },
     "execution_count": 13,
     "metadata": {},
     "output_type": "execute_result"
    }
   ],
   "source": [
    "def absolute_value(x):\n",
    "    if x < 0:\n",
    "        return -x\n",
    "    else:\n",
    "        return x\n",
    "    \n",
    "absolute_value(0)"
   ]
  },
  {
   "cell_type": "markdown",
   "metadata": {},
   "source": [
    "### Exercise 2  \n",
    "Use incremental development to write a function called `hypotenuse` that returns the length of the hypotenuse of a right triangle given the lengths of the two legs as arguments. Record each stage of the development process as you go, using as many cells as you need."
   ]
  },
  {
   "cell_type": "code",
   "execution_count": 16,
   "metadata": {
    "collapsed": false
   },
   "outputs": [
    {
     "data": {
      "text/plain": [
       "0.0"
      ]
     },
     "execution_count": 16,
     "metadata": {},
     "output_type": "execute_result"
    }
   ],
   "source": [
    "def hypotenuse(a,b):\n",
    "    return 0.0\n",
    "\n",
    "hypotenuse(1,1)"
   ]
  },
  {
   "cell_type": "code",
   "execution_count": 22,
   "metadata": {
    "collapsed": false
   },
   "outputs": [
    {
     "name": "stdout",
     "output_type": "stream",
     "text": [
      "a^2 + b^2 = 13\n"
     ]
    },
    {
     "data": {
      "text/plain": [
       "0.0"
      ]
     },
     "execution_count": 22,
     "metadata": {},
     "output_type": "execute_result"
    }
   ],
   "source": [
    "def hypotenuse(a,b):\n",
    "    length1 = a**2\n",
    "    length2 = b**2\n",
    "    length3 = length1+length2\n",
    "    print \"a^2 + b^2 = \" + str(length3)\n",
    "    return 0.0\n",
    "\n",
    "hypotenuse(2,3)"
   ]
  },
  {
   "cell_type": "code",
   "execution_count": 2,
   "metadata": {
    "collapsed": false
   },
   "outputs": [
    {
     "data": {
      "text/plain": [
       "3.605551275463989"
      ]
     },
     "execution_count": 2,
     "metadata": {},
     "output_type": "execute_result"
    }
   ],
   "source": [
    "import math\n",
    "def hypotenuse(a,b):\n",
    "    length1 = a**2\n",
    "    length2 = b**2\n",
    "    length3 = length1+length2\n",
    "    return math.sqrt(length3)\n",
    "\n",
    "hypotenuse(2,3)"
   ]
  },
  {
   "cell_type": "markdown",
   "metadata": {},
   "source": [
    "### Exercise 3  \n",
    "Write a function `is_between(x, y, z)` that returns `True` if `x ≤ y ≤ z` or `False` otherwise."
   ]
  },
  {
   "cell_type": "code",
   "execution_count": 3,
   "metadata": {
    "collapsed": false
   },
   "outputs": [
    {
     "data": {
      "text/plain": [
       "False"
      ]
     },
     "execution_count": 3,
     "metadata": {},
     "output_type": "execute_result"
    }
   ],
   "source": [
    "def is_between(x, y, z):\n",
    "    return x<=y<=z\n",
    "    \n",
    "is_between(1,2,1)"
   ]
  },
  {
   "cell_type": "markdown",
   "metadata": {},
   "source": [
    "## [Chapter 7](http://www.greenteapress.com/thinkpython/html/thinkpython008.html)\n",
    "\n",
    "#### 7.1\n",
    "1. Variables can be assigned to different values at any time within a program \n",
    "2. Variables can also be assigned to other variables\\\n",
    "\n",
    "#### 7.2\n",
    "1. When a variable gets a new assignment, it is updated\n",
    "2. before a variable can be updated it must be initialized or declared\n",
    "3. Adding 1 to a variable is called an increment\n",
    "\n",
    "#### 7.3\n",
    "1. a while statement is a loop that will continually repeat as long as the conditional is true\n",
    "2. usually the conditional is formatted so that a variable must reach a certain value\n",
    "\n",
    "#### 7.4\n",
    "1. a break will exit immediately out of a loop\n",
    "\n",
    "#### 7.5\n",
    "1. Newton's method: find square root of \"a\"\n",
    "   y = (x+a/x)/2\n",
    "2. The more times this equation is run the closer the approximation is to the actual answer\n",
    "3. A loop can be used to get close to the answer\n",
    "\n",
    "#### 7.6\n",
    "1. An algorithm is a process of finding an answer from a category of problems\n",
    "2. Designing algorithms is integral to making programs"
   ]
  },
  {
   "cell_type": "markdown",
   "metadata": {},
   "source": [
    "**Quick check:** How do you test for equality in Python?\n",
    "\n",
    "using the == command"
   ]
  },
  {
   "cell_type": "markdown",
   "metadata": {},
   "source": [
    " "
   ]
  },
  {
   "cell_type": "markdown",
   "metadata": {},
   "source": [
    "**Challenge:** Prove/disprove the Collatz conjecture :)"
   ]
  },
  {
   "cell_type": "code",
   "execution_count": 5,
   "metadata": {
    "collapsed": false
   },
   "outputs": [
    {
     "name": "stdout",
     "output_type": "stream",
     "text": [
      "Yay\n"
     ]
    }
   ],
   "source": [
    "def Collatz(a):\n",
    "    while (a):\n",
    "        if (a ==1):\n",
    "            print\"Yay\"\n",
    "            break\n",
    "        elif(a%2 == 0):\n",
    "            a = a/2\n",
    "        else:\n",
    "            a = 3*a + 1\n",
    "\n",
    "Collatz(6)"
   ]
  },
  {
   "cell_type": "markdown",
   "metadata": {},
   "source": [
    "### Exercise 2  \n",
    "Encapsulate the loop from Section 7.5 in a function called `square_root` that takes `a` as a parameter, chooses a reasonable value of `x`, and returns an estimate of the square root of `a`."
   ]
  },
  {
   "cell_type": "code",
   "execution_count": 13,
   "metadata": {
    "collapsed": false
   },
   "outputs": [
    {
     "name": "stdout",
     "output_type": "stream",
     "text": [
      "5\n",
      "2.7\n",
      "1.72037037037\n",
      "1.44145536818\n",
      "1.41447098137\n",
      "1.4142135858\n",
      "1.41421356237\n",
      "1.41421356237\n",
      "5\n",
      "3.5\n",
      "3.17857142857\n",
      "3.16231942215\n",
      "3.16227766044\n",
      "3.16227766017\n"
     ]
    }
   ],
   "source": [
    "def square_root(a):\n",
    "    z = float(a)\n",
    "    x = 5\n",
    "    while True:\n",
    "        print x\n",
    "        y = (x + z/x) / 2\n",
    "        if y == x:\n",
    "            break\n",
    "        x = y\n",
    "        \n",
    "square_root(2)\n",
    "square_root(10)"
   ]
  },
  {
   "cell_type": "markdown",
   "metadata": {},
   "source": [
    "### Exercise 3  \n",
    "To test the square root algorithm you developed in Exercise 2, you could compare it with Python's `math.sqrt` function. Write a function named `test_square_root` that prints a table like this:\n",
    "\n",
    "```python\n",
    "1.0 1.0           1.0           0.0\n",
    "2.0 1.41421356237 1.41421356237 2.22044604925e-16\n",
    "3.0 1.73205080757 1.73205080757 0.0\n",
    "4.0 2.0           2.0           0.0\n",
    "5.0 2.2360679775  2.2360679775  0.0\n",
    "6.0 2.44948974278 2.44948974278 0.0\n",
    "7.0 2.64575131106 2.64575131106 0.0\n",
    "8.0 2.82842712475 2.82842712475 4.4408920985e-16\n",
    "9.0 3.0           3.0           0.0\n",
    "```\n",
    "\n",
    "The first column is a number, `a`; the second column is the square root of a computed with the function from Section 7.5; the third column is the square root computed by `math.sqrt`; the fourth column is the absolute value of the difference between the two estimates."
   ]
  },
  {
   "cell_type": "code",
   "execution_count": 22,
   "metadata": {
    "collapsed": false
   },
   "outputs": [
    {
     "name": "stdout",
     "output_type": "stream",
     "text": [
      "1.0 1.0           1.0           0.0\n",
      "2.0 1.41421356237 1.41421356237 2.22044604925e-16\n",
      "3.0 1.73205080757 1.73205080757 0.0\n",
      "4.0 2.0           2.0           0.0\n",
      "5.0 2.2360679775  2.2360679775  0.0\n",
      "6.0 2.44948974278 2.44948974278 0.0\n",
      "7.0 2.64575131106 2.64575131106 0.0\n",
      "8.0 2.82842712475 2.82842712475 4.4408920985e-16\n",
      "9.0 3.0           3.0           0.0\n"
     ]
    }
   ],
   "source": [
    "def square_root(a):\n",
    "    z = float(a)\n",
    "    x = 5\n",
    "    while True:\n",
    "        y = (x + z/x) / 2\n",
    "        if y == x:\n",
    "            break\n",
    "        x = y\n",
    "    return x\n",
    "\n",
    "def test_square_root(a):\n",
    "    import math\n",
    "    test = square_root(a)\n",
    "    other = math.sqrt(a)\n",
    "    diff = abs(test - other)\n",
    "    if(len(str(test)) < 13):\n",
    "        test = str(test)+(\" \" *(13 - len(str(test))))\n",
    "    if(len(str(other)) < 13):\n",
    "        other = str(other)+(\" \" *(13 - len(str(other))))\n",
    "    a = float(a)\n",
    "    print str(a) + ' ' + str(test) + ' ' + str(other) + ' ' + str(diff)\n",
    "    \n",
    "test_square_root(1)\n",
    "test_square_root(2)\n",
    "test_square_root(3)\n",
    "test_square_root(4)\n",
    "test_square_root(5)\n",
    "test_square_root(6)\n",
    "test_square_root(7)\n",
    "test_square_root(8)\n",
    "test_square_root(9)"
   ]
  },
  {
   "cell_type": "markdown",
   "metadata": {},
   "source": [
    "### Challenge: Exercise 5  (optional)\n",
    "The mathematician Srinivasa Ramanujan found an infinite series that can be used to generate a numerical approximation of\n",
    "$\\frac{1}{\\pi}$:\n",
    "\n",
    "$$\\frac{1}{\\pi} = \\frac{2 \\sqrt{2}}{9801} \\sum_{k=0}^{\\infty} \\frac{(4k)! (1103+26390k)}{(k!)^4 396^{4k}}$$\n",
    " \n",
    "Write a function called `estimate_pi` that uses this formula to compute and return an estimate of $\\pi$. It should use a `while` loop to compute terms of the summation until the last term is smaller than `1e-15` (which is Python notation for $10^{−15}$). You can check the result by comparing it to `math.pi`.\n",
    "\n",
    "[Possible solution](http://thinkpython.com/code/pi.py) (give the exercise a try before viewing the solution)"
   ]
  },
  {
   "cell_type": "code",
   "execution_count": 6,
   "metadata": {
    "collapsed": false
   },
   "outputs": [
    {
     "name": "stdout",
     "output_type": "stream",
     "text": [
      "0.318309886184\n",
      "0.318309886184\n"
     ]
    }
   ],
   "source": [
    "def square_root(a):\n",
    "    z = float(a)\n",
    "    x = 5\n",
    "    while True:\n",
    "        y = (x + z/x) / 2\n",
    "        if y == x:\n",
    "            break\n",
    "        x = y\n",
    "    return x\n",
    "        \n",
    "def factorial(n):\n",
    "    if n == 0:\n",
    "        return 1\n",
    "    else:\n",
    "        return n * factorial(n-1)\n",
    "\n",
    "def estimate_pi():\n",
    "    a = 2 * square_root(2) / 9801\n",
    "    k = 0.0\n",
    "    Sum = 0.0\n",
    "    while True:\n",
    "        top = factorial(4.0*k)*(1103.0+26390.0*k)\n",
    "        bottom = (factorial(k)**4.0)*(396.0**(4.0*k))\n",
    "        Sum += top/bottom\n",
    "        k = k+1\n",
    "        if ((top/bottom) < 1e-15):\n",
    "            break\n",
    "    return a*Sum\n",
    "\n",
    "print estimate_pi()\n",
    "import math\n",
    "print 1/math.pi"
   ]
  },
  {
   "cell_type": "markdown",
   "metadata": {},
   "source": [
    "## Reading Journal feedback\n",
    "\n",
    "Have any comments on this Reading Journal? Feel free to leave them below and we'll read them when you submit your journal entry. This could include suggestions to improve the exercises, topics you'd like to see covered in class next time, or other feedback.\n",
    "\n",
    "If you have Python questions or run into problems while completing the reading, you should post them to Piazza instead so you can get a quick response before your journal is submitted."
   ]
  },
  {
   "cell_type": "markdown",
   "metadata": {},
   "source": [
    " "
   ]
  }
 ],
 "metadata": {
  "kernelspec": {
   "display_name": "Python 2",
   "language": "python",
   "name": "python2"
  },
  "language_info": {
   "codemirror_mode": {
    "name": "ipython",
    "version": 2
   },
   "file_extension": ".py",
   "mimetype": "text/x-python",
   "name": "python",
   "nbconvert_exporter": "python",
   "pygments_lexer": "ipython2",
   "version": "2.7.6"
  }
 },
 "nbformat": 4,
 "nbformat_minor": 0
}

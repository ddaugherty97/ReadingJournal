{
 "cells": [
  {
   "cell_type": "markdown",
   "metadata": {},
   "source": [
    "# Day 6 Reading Journal\n",
    "\n",
    "This journal includes several required exercises, but it is meant to encourage active reading more generally.  You should use the journal to take detailed notes, catalog questions, and explore the content from Think Python deeply.\n",
    "\n",
    "Reading: Think Python Chapter 5.8-5.14, 6.5-6.11\n",
    "\n",
    "**Due: Thursday, February 11 at 12 noon**\n",
    "\n"
   ]
  },
  {
   "cell_type": "markdown",
   "metadata": {},
   "source": [
    "## [Chapter 5.8 - 5.14](http://www.greenteapress.com/thinkpython/html/thinkpython006.html)\n",
    "\n",
    "[Python Tutor](http://pythontutor.com/) can be helpful for visualizing stack diagrams, including for recursive execution.\n",
    "\n",
    "Chapter 5 leads into Chapter 6, and all the required exercises for this reading are in the Chapter 6 section.\n",
    "\n",
    "\n",
    "#### 5.8\n",
    "1. Recursion happens when a function calls itself\n",
    "2. Recursion functions similarily to a for loop\n",
    "\n",
    "#### 5.9\n",
    "1. stack diagrams can be useful for seeing what a recursive function will do each time it calls itself\n",
    "\n",
    "#### 5.10\n",
    "1. Infinite recursion occurs when a function calls itself and it will continue to call itself infinitely.  The conditions to break out of the function will never be met\n",
    "\n",
    "#### 5.11\n",
    "1. raw_input will get input from the keyboard and return it as a useable value\n",
    "2. the sequence \\n will cause a line break"
   ]
  },
  {
   "cell_type": "markdown",
   "metadata": {},
   "source": [
    "## [Chapter 6.5 - 6.11](http://www.greenteapress.com/thinkpython/html/thinkpython007.html)\n",
    "\n",
    "#### 6.5\n",
    "1. Recursion is when a function calls itself and it will continue infinitely if no variables within the function change\n",
    "\n",
    "#### 6.6\n",
    "1. The best way to think through a recursion function is to work through the first case and step through the program until the function calls itself for the first time\n",
    "\n",
    "#### 6.7\n",
    "1. Checking instances can be used with the function isinstance(value, type)\n",
    "2. the base case is the instance when the function will break out of recursion"
   ]
  },
  {
   "cell_type": "markdown",
   "metadata": {
    "is_question": true,
    "problem": "Exercise 6.4"
   },
   "source": [
    "### Exercise 4  \n",
    "\n",
    "Draw a stack diagram for the following program. What does the program print? \n",
    "\n",
    "You can do this on paper, using [Python Tutor](http://pythontutor.com/), or with [Lumpy](http://www.greenteapress.com/thinkpython/swampy/) as used in [Allen's solution](http://thinkpython.com/code/stack_diagram.py)."
   ]
  },
  {
   "cell_type": "code",
   "execution_count": 1,
   "metadata": {
    "collapsed": false,
    "solution": "Exercise 6.4"
   },
   "outputs": [
    {
     "name": "stdout",
     "output_type": "stream",
     "text": [
      "9 90\n",
      "8100\n"
     ]
    }
   ],
   "source": [
    "def b(z):\n",
    "    prod = a(z, z)\n",
    "    print z, prod\n",
    "    return prod\n",
    "\n",
    "def a(x, y):\n",
    "    x = x + 1\n",
    "    return x * y\n",
    "\n",
    "def c(x, y, z):\n",
    "    total = x + y + z\n",
    "    square = b(total)**2\n",
    "    return square\n",
    "\n",
    "x = 1\n",
    "y = x + 1\n",
    "print c(x, y+3, x+y)"
   ]
  },
  {
   "cell_type": "markdown",
   "metadata": {
    "is_question": true,
    "problem": "Exercise 6.6"
   },
   "source": [
    "### Exercise 6  \n",
    "\n",
    "A palindrome is a word that is spelled the same backward and forward, like “noon” and “redivider”. Recursively, a word is a palindrome if the first and last letters are the same and the middle is a palindrome.\n",
    "\n",
    "You can use the `first`, `last`, and `middle` helper functions defined in Think Python, or do the string slices inside your function directly. Be sure to think about your base cases.\n",
    "    \n",
    "Write a function called `is_palindrome` that takes a string argument and returns `True` if it is a palindrome and `False` otherwise. Remember that you can use the built-in function `len` to check the length of a string.\n",
    "\n",
    "Write some unit tests for your function (optionally using doctest) to show that it works as intended."
   ]
  },
  {
   "cell_type": "code",
   "execution_count": 15,
   "metadata": {
    "collapsed": false,
    "solution": "Exercise 6.6"
   },
   "outputs": [],
   "source": [
    "'''\n",
    "\n",
    ">>> is_palindrome(\"redivider\")\n",
    "True\n",
    "\n",
    ">>> is_palindrome(\"bob\")\n",
    "True\n",
    "\n",
    ">>> is_palindrome(\"ttta\")\n",
    "False\n",
    "\n",
    ">>> is_palindrome(\"aaaaaaa\")\n",
    "True\n",
    "\n",
    "'''\n",
    "\n",
    "def first(word):\n",
    "    return word[0]\n",
    "\n",
    "def last(word):\n",
    "    return word[-1]\n",
    "\n",
    "def middle(word):\n",
    "    return word[1:-1]\n",
    "\n",
    "def is_palindrome(word):\n",
    "    mid = middle(word)\n",
    "    if first(word) == last(word):    \n",
    "        if mid[:] == mid[::-1]:\n",
    "            return True\n",
    "    return False\n",
    "\n",
    "import doctest\n",
    "doctest.testmod()\n",
    "doctest.run_docstring_examples(is_palindrome, globals())"
   ]
  },
  {
   "cell_type": "markdown",
   "metadata": {
    "is_question": true,
    "problem": "Exercise 6.6 challenge"
   },
   "source": [
    "### Challenge (optional)\n",
    "\n",
    "Use the word list from [Chapter 9.1](http://www.greenteapress.com/thinkpython/html/thinkpython010.html) Exercise 1 to find all of the palindromes."
   ]
  },
  {
   "cell_type": "code",
   "execution_count": 21,
   "metadata": {
    "collapsed": false,
    "solution": "Exercise 6.6 challenge"
   },
   "outputs": [
    {
     "name": "stdout",
     "output_type": "stream",
     "text": [
      "aa\n",
      "aba\n",
      "aga\n",
      "aha\n",
      "ala\n",
      "alula\n",
      "ama\n",
      "ana\n",
      "anna\n",
      "ava\n",
      "awa\n",
      "bib\n",
      "bob\n",
      "boob\n",
      "bub\n",
      "civic\n",
      "dad\n",
      "deed\n",
      "deified\n",
      "deked\n",
      "deled\n",
      "denned\n",
      "dewed\n",
      "did\n",
      "dud\n",
      "eke\n",
      "eme\n",
      "ere\n",
      "eve\n",
      "ewe\n",
      "eye\n",
      "gag\n",
      "gig\n",
      "hah\n",
      "halalah\n",
      "hallah\n",
      "huh\n",
      "kaiak\n",
      "kayak\n",
      "keek\n",
      "kook\n",
      "level\n",
      "madam\n",
      "marram\n",
      "mem\n",
      "mim\n",
      "minim\n",
      "mom\n",
      "mum\n",
      "noon\n",
      "nun\n",
      "oho\n",
      "otto\n",
      "pap\n",
      "peep\n",
      "pep\n",
      "pip\n",
      "poop\n",
      "pop\n",
      "pup\n",
      "radar\n",
      "redder\n",
      "refer\n",
      "reifier\n",
      "repaper\n",
      "reviver\n",
      "rotator\n",
      "rotor\n",
      "sagas\n",
      "sees\n",
      "selles\n",
      "sememes\n",
      "semes\n",
      "seres\n",
      "sexes\n",
      "shahs\n",
      "sis\n",
      "solos\n",
      "sos\n",
      "stets\n",
      "tat\n",
      "tenet\n",
      "terret\n",
      "tit\n",
      "toot\n",
      "tot\n",
      "tut\n",
      "vav\n",
      "waw\n",
      "wow\n",
      "yay\n"
     ]
    }
   ],
   "source": [
    "def first(word):\n",
    "    return word[0]\n",
    "\n",
    "def last(word):\n",
    "    return word[-1]\n",
    "\n",
    "def middle(word):\n",
    "    return word[1:-1]\n",
    "\n",
    "def is_palindrome(word):\n",
    "    mid = middle(word)\n",
    "    if first(word) == last(word):    \n",
    "        if mid[:] == mid[::-1]:\n",
    "            return True\n",
    "    return False\n",
    "\n",
    "fin = open('words.txt')\n",
    "for line in fin:\n",
    "    word = line.strip()\n",
    "    if is_palindrome(word):\n",
    "        print word\n",
    "\n"
   ]
  },
  {
   "cell_type": "markdown",
   "metadata": {
    "is_question": true,
    "problem": "Exercise 6.7"
   },
   "source": [
    "### Exercise 7  \n",
    "\n",
    "A number `a` is a power of `b` if it is divisible by `b` and `a/b` is a power of `b`. Write a function called `is_power` that takes parameters `a` and `b` and returns `True` if `a` is a power of `b`. Note: you will have to think about the base case."
   ]
  },
  {
   "cell_type": "code",
   "execution_count": 5,
   "metadata": {
    "collapsed": false,
    "solution": "Exercise 6.7"
   },
   "outputs": [
    {
     "name": "stdout",
     "output_type": "stream",
     "text": [
      "False\n",
      "True\n"
     ]
    }
   ],
   "source": [
    "def is_power(a,b):\n",
    "    if a == b:\n",
    "        return True\n",
    "    test1 = a%b\n",
    "    a = a/b\n",
    "    if test1 == 0 and is_power(a,b):\n",
    "        return True\n",
    "    else:\n",
    "        return False\n",
    "\n",
    "print is_power(126,2)\n",
    "print is_power(128,2)"
   ]
  },
  {
   "cell_type": "markdown",
   "metadata": {
    "is_question": true,
    "problem": "Exercise 6.8"
   },
   "source": [
    "### Challenge (optional) - Exercise 8  \n",
    "\n",
    "The greatest common divisor (GCD) of `a` and `b` is the largest number that divides both of them with no remainder.\n",
    "\n",
    "One way to find the GCD of two numbers is based on the observation that if `r` is the remainder when `a` is divided by `b`, then `gcd(a, b) = gcd(b, r)`. As a base case, we can use `gcd(a, 0) = a`.\n",
    "\n",
    "Write a function called `gcd` that takes parameters `a` and `b` and returns their greatest common divisor."
   ]
  },
  {
   "cell_type": "code",
   "execution_count": null,
   "metadata": {
    "collapsed": true,
    "problem": "Exercise 6.8"
   },
   "outputs": [],
   "source": []
  },
  {
   "cell_type": "markdown",
   "metadata": {},
   "source": [
    "## Reading Journal feedback\n",
    "\n",
    "Have any comments on this Reading Journal? Feel free to leave them below and we'll read them when you submit your journal entry. This could include suggestions to improve the exercises, topics you'd like to see covered in class next time, or other feedback.\n",
    "\n",
    "If you have Python questions or run into problems while completing the reading, you should post them to Piazza instead so you can get a quick response before your journal is submitted."
   ]
  },
  {
   "cell_type": "markdown",
   "metadata": {
    "feedback_response": true
   },
   "source": [
    " "
   ]
  }
 ],
 "metadata": {
  "kernelspec": {
   "display_name": "Python 2",
   "language": "python",
   "name": "python2"
  },
  "language_info": {
   "codemirror_mode": {
    "name": "ipython",
    "version": 2
   },
   "file_extension": ".py",
   "mimetype": "text/x-python",
   "name": "python",
   "nbconvert_exporter": "python",
   "pygments_lexer": "ipython2",
   "version": "2.7.6"
  }
 },
 "nbformat": 4,
 "nbformat_minor": 0
}

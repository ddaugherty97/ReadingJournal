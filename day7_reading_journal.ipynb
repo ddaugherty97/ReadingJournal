{
 "cells": [
  {
   "cell_type": "markdown",
   "metadata": {},
   "source": [
    "# Day 7 Reading Journal\n",
    "\n",
    "This journal includes several required exercises, but it is meant to encourage active reading more generally.  You should use the journal to take detailed notes, catalog questions, and explore the content from Think Python deeply.\n",
    "\n",
    "Reading: Think Python Chapter 11, 12\n",
    "\n",
    "**Due: Thursday, February 18 at 12 noon**\n",
    "\n"
   ]
  },
  {
   "cell_type": "markdown",
   "metadata": {},
   "source": [
    "## [Chapter 11](http://www.greenteapress.com/thinkpython/html/thinkpython012.html)\n",
    "\n",
    "\n",
    "#### 11.0\n",
    "1. A dictionary is like a list but can have any value be an index\n",
    "2. For example for a translator dictionary, the dictionary could have index \"one\" which maps to \"uno\"\n",
    "3. The order of the values within the dictionary is unpredictable\n",
    "4. len(dictionary) will return the number of key-value pairs\n",
    "\n",
    "#### 11.1\n",
    "1. Different ways to perform a computation are called implementations\n",
    "\n",
    "#### 11.3\n",
    "1. a lookup is referencing a key within the dictionary: d[k]\n",
    "2. No syntax to do a reverse lookup\n",
    "\n",
    "#### 11.4\n",
    "1. Lists and dictionaries cannot be used as keys because they are mutable\n",
    "\n",
    "#### 11.5\n",
    "1. A memo is used to keep track of previously computed values\n",
    "2. In the fibonacci example the previous numbers are stored in a dictionary to use later on\n",
    "\n",
    "#### 11.6\n",
    "1. global variables exist outside of their functions\n",
    "2. they can be used in any function\n",
    "3. Variables in __main__ are considered to be global because they can be used in any function within a script\n",
    "\n"
   ]
  },
  {
   "cell_type": "markdown",
   "metadata": {},
   "source": [
    "**Quick check:** In about one sentence using your own words, what is a dictionary?\n",
    "\n",
    "A dictionary is similar to a list but instead of using integer values for indicies, it can use any value.  ex. {\"pickle\": 5, \"daniel\": \"Happy\"}"
   ]
  },
  {
   "cell_type": "markdown",
   "metadata": {
    "is_question": true,
    "problem": "Exercise 11.2"
   },
   "source": [
    "### Exercise 2  \n",
    "\n",
    "Dictionaries have a [method called `get`](https://docs.python.org/2/library/stdtypes.html#mapping-types-dict) that takes a key and a default value. If the key appears in the dictionary, `get` returns the corresponding value; otherwise it returns the default value. For example:\n",
    "\n",
    "```\n",
    ">>> h = histogram('a')\n",
    ">>> print h\n",
    "{'a': 1}\n",
    ">>> h.get('a', 0)\n",
    "1\n",
    ">>> h.get('b', 0)\n",
    "0\n",
    "```\n",
    "\n",
    "Use `get` to write `histogram` more concisely. You should be able to eliminate the `if` statement. Add unit tests for your histogram implementation."
   ]
  },
  {
   "cell_type": "code",
   "execution_count": 28,
   "metadata": {
    "collapsed": false,
    "solution": "Exercise 11.2"
   },
   "outputs": [
    {
     "name": "stdout",
     "output_type": "stream",
     "text": [
      "{'a': 1, 'h': 1, 'y': 1, 'p': 5}\n"
     ]
    }
   ],
   "source": [
    "def histogram(s):\n",
    "    d = dict()\n",
    "    for c in s:\n",
    "        d[c] = 1 + d.get(c, 0)\n",
    "    return d\n",
    "\n",
    "print histogram('happy')"
   ]
  },
  {
   "cell_type": "markdown",
   "metadata": {
    "is_question": true,
    "problem": "Exercise 11.4"
   },
   "source": [
    "### Exercise 4  \n",
    "\n",
    "Modify `reverse_lookup` so that it builds and returns a list of all keys that map to `v`, or an empty list if there are none. Add unit tests for your implementation."
   ]
  },
  {
   "cell_type": "code",
   "execution_count": 37,
   "metadata": {
    "collapsed": false,
    "solution": "Exercise 11.4"
   },
   "outputs": [
    {
     "data": {
      "text/plain": [
       "TestResults(failed=0, attempted=3)"
      ]
     },
     "execution_count": 37,
     "metadata": {},
     "output_type": "execute_result"
    }
   ],
   "source": [
    "\"\"\"\n",
    "\n",
    ">>> d = {'a':1, 'b':2, 'c':5, 'd':2}\n",
    ">>> print reverse_lookup(d,2)\n",
    "['b', 'd']\n",
    "\n",
    ">>> print reverse_lookup(d,0)\n",
    "[]\n",
    "\n",
    "\"\"\"\n",
    "\n",
    "def reverse_lookup(d, v):\n",
    "    key_list = []\n",
    "    for k in d:\n",
    "        if d[k] == v:\n",
    "            key_list.append(k)\n",
    "    return key_list\n",
    "\n",
    "import doctest\n",
    "doctest.testmod()"
   ]
  },
  {
   "cell_type": "markdown",
   "metadata": {},
   "source": [
    "If you'd like to learn more about errors and exceptions, you can check out the [Python tutorial](https://docs.python.org/2/tutorial/errors.html) or read ahead to [Appendix A](http://www.greenteapress.com/thinkpython/html/thinkpython021.html) of Think Python. If you choose to use doctest for your unit testing, it can also [deal with exceptions](https://docs.python.org/2/library/doctest.html#what-about-exceptions)."
   ]
  },
  {
   "cell_type": "markdown",
   "metadata": {},
   "source": [
    "**Quick check** What type of objects can be used as keys to a dictionary, i.e. what property must they have?\n",
    "\n",
    "They can be any type of value (ex. str, int, char, float)"
   ]
  },
  {
   "cell_type": "markdown",
   "metadata": {
    "is_question": true,
    "problem": "Exercise 11.6"
   },
   "source": [
    "### Exercise 6 (modified)\n",
    "\n",
    "Create a memoized version of your Levenshtein distance function from Day 7. What kind of performance change do you see?\n",
    "\n",
    "Optional: If you'd like to get some quantitative results, you could check out the [timeit](https://docs.python.org/2/library/timeit.html) module\n",
    "\n",
    "Note: You can also study Fibonacci here if you prefer."
   ]
  },
  {
   "cell_type": "code",
   "execution_count": 50,
   "metadata": {
    "collapsed": false,
    "solution": "Exercise 11.6"
   },
   "outputs": [
    {
     "name": "stdout",
     "output_type": "stream",
     "text": [
      "3\n",
      "4\n"
     ]
    }
   ],
   "source": [
    "def levenshtein(s, len_s, t, len_t):\n",
    "    memo = dict()\n",
    "    key = str(len_s) + str(len_t)\n",
    "    cost = 0\n",
    "    if key in memo:\n",
    "        return memo[key]\n",
    "    if len_s == 0:\n",
    "        memo[key] = len_t\n",
    "        return len_t\n",
    "    if len_t == 0:\n",
    "        memo[key] = len_s\n",
    "        return len_s\n",
    "    if s[len_s-1] == t[len_t-1]:\n",
    "        cost = 0\n",
    "    else:\n",
    "        cost = 1\n",
    "        \n",
    "    res =  min(levenshtein(s, len_s-1, t, len_t) + 1,\n",
    "               levenshtein(s, len_s, t, len_t-1) + 1,\n",
    "               levenshtein(s, len_s-1, t, len_t-1) + cost)\n",
    "    memo[key] = res\n",
    "    return res\n",
    "\n",
    "print levenshtein('bill', len('bill'), 'billion', len('billion'))\n",
    "print levenshtein('bill', len('bill'), 'million', len('million'))"
   ]
  },
  {
   "cell_type": "markdown",
   "metadata": {},
   "source": [
    "## [Chapter 12](http://www.greenteapress.com/thinkpython/html/thinkpython013.html)\n",
    "\n",
    "**Quick check:** In about one sentence using your own words, what is a tuple?\n",
    "\n",
    "Tuples are a bunch of values seperated by commas\n",
    "\n",
    "#### 12.1\n",
    "1. tuple('lupins') will seperate each char into a a comma seperated sequence\n",
    "2. slices and indicies can be used with tuples\n",
    "3. tuples can be concatonated\n",
    "\n",
    "#### 12.2\n",
    "1. tuple assignments are implemented with the format a,b = b,a where a = b, and b = a\n",
    "\n",
    "#### 12.3\n",
    "1. divmod takes two arguments and returns a tuple of two values\n",
    "\n",
    "#### 12.4\n",
    "1. (*args) will take in an unlimited amount of arguments\n",
    "\n",
    "#### 12.5\n",
    "1. zip wil take two or more sequences and turn them into a list of tubles where each element contains one element from each sequence\n",
    "\n",
    "#### 12.6\n",
    "1. d.items() will will turn each key-value pair into a list of tuples\n",
    "2. zip can also be used to create a dictionary ex. d = dict(zip('abc', range(3)))\n",
    "\n",
    "#### 12.7\n",
    "1. when comparing tuples the first elements from each tuple are compared and then the second and then the third etc. until the values differ\n",
    "2. the sort function does this"
   ]
  },
  {
   "cell_type": "markdown",
   "metadata": {
    "is_question": true,
    "problem": "Exercise 12.1"
   },
   "source": [
    "### Exercise 1  \n",
    "\n",
    "Many of the built-in functions use variable-length argument tuples. For example, `max` and `min` can take any number of arguments:\n",
    "\n",
    "```\n",
    ">>> max(1,2,3)\n",
    "3\n",
    "```\n",
    "\n",
    "But `sum` does not.\n",
    "\n",
    "```\n",
    ">>> sum(1,2,3)\n",
    "TypeError: sum expected at most 2 arguments, got 3\n",
    "```\n",
    "\n",
    "Write a function called ```sumall``` that takes any number of arguments and returns their sum. \n",
    "\n",
    "Write unit tests for your function. Do I actually need to keep saying this? Let's assume it's always a good idea :)"
   ]
  },
  {
   "cell_type": "code",
   "execution_count": 58,
   "metadata": {
    "collapsed": false,
    "solution": "Exercise 12.1"
   },
   "outputs": [
    {
     "data": {
      "text/plain": [
       "TestResults(failed=0, attempted=2)"
      ]
     },
     "execution_count": 58,
     "metadata": {},
     "output_type": "execute_result"
    }
   ],
   "source": [
    "\"\"\"\n",
    "\n",
    ">>> print sumall(1,2,3,4,5)\n",
    "15\n",
    ">>> print sumall(4,6,1)\n",
    "11\n",
    "\n",
    "\"\"\"\n",
    "\n",
    "\n",
    "def sumall(*args):\n",
    "    res = 0\n",
    "    for i in args:\n",
    "        res += i\n",
    "    return res\n",
    "\n",
    "import doctest\n",
    "doctest.testmod()"
   ]
  },
  {
   "cell_type": "markdown",
   "metadata": {},
   "source": [
    "If you're interested in more flexible ways to pass arguments to functions, check out the [Python tutorial](https://docs.python.org/2/tutorial/controlflow.html#more-on-defining-functions). For instance, you can also use keyword arguments, which are collected into a dictionary just like `*` gathers variable numbers of positional arguments into a tuple.\n",
    "\n",
    "This pattern is very common for defining functions with complex optional behaviors in Python, and you will often see definitions like:\n",
    "\n",
    "```\n",
    "def my_func(required_argument1, *arguments, **keywords):\n",
    "    ...\n",
    "```"
   ]
  },
  {
   "cell_type": "markdown",
   "metadata": {
    "is_question": true,
    "problem": "Exercise 12 sort"
   },
   "source": [
    "### Exercise\n",
    "\n",
    "Write a function `sort_by_last_letter` that takes a list of words and returns a new list with the words sorted alphabetically by the _last letter_ in the word. Hint: use the **Decorate, Sort, Undecorate** pattern. Write unit tests for your function."
   ]
  },
  {
   "cell_type": "code",
   "execution_count": 69,
   "metadata": {
    "collapsed": false,
    "solution": "Exercise 12 sort"
   },
   "outputs": [],
   "source": [
    "def sort_by_last_letter(words):\n",
    "    \"\"\"\n",
    "\n",
    "    >>> words = 'swim', 'dance', 'pickle', 'happy'\n",
    "    >>> print sort_by_last_letter(words)\n",
    "    ['dance', 'pickle', 'swim', 'happy']\n",
    "    \n",
    "    >>> words = 'poop', 'icing', 'willem', 'scarf'\n",
    "    >>> print sort_by_last_letter(words)\n",
    "    ['scarf', 'icing', 'willem', 'poop']\n",
    "\n",
    "\n",
    "    \"\"\"\n",
    "\n",
    "\n",
    "    t = []\n",
    "    for word in words:\n",
    "        t.append((word[::-1], word))\n",
    "        \n",
    "    t.sort()\n",
    "    \n",
    "    res = []\n",
    "    for char, word in t:\n",
    "        res.append(word)\n",
    "    return res\n",
    "\n",
    "import doctest\n",
    "doctest.run_docstring_examples(sort_by_last_letter, globals())"
   ]
  },
  {
   "cell_type": "markdown",
   "metadata": {},
   "source": [
    "**Quick check** Give an example of when you might use each sequence type:\n",
    "\n",
    "- tuple (passing a sequence as an argument to a function)\n",
    "\n",
    "- list (want something mutable)\n",
    "\n",
    "- string (want to use a sequence as a dictionary key)\n",
    "\n"
   ]
  },
  {
   "cell_type": "markdown",
   "metadata": {
    "is_question": true,
    "problem": "Exercise 12.3"
   },
   "source": [
    "### Exercise 3  \n",
    "\n",
    "Write a function called `most_frequent` that takes a string and prints the letters in decreasing order of frequency. Find text samples from several different languages and see how letter frequency varies between languages. Compare your results with the tables at http://en.wikipedia.org/wiki/Letter_frequencies. \n",
    "\n",
    "Allen's solution (try it on your own first): http://thinkpython.com/code/most_frequent.py. "
   ]
  },
  {
   "cell_type": "code",
   "execution_count": 91,
   "metadata": {
    "collapsed": false,
    "solution": "Exercise 12.3"
   },
   "outputs": [
    {
     "name": "stdout",
     "output_type": "stream",
     "text": [
      "['p', 'y', 'h', 'a']\n",
      "['p', 'y', 'i']\n",
      "['l', 'o', 'h', 'e']\n"
     ]
    }
   ],
   "source": [
    "def histogram(s):\n",
    "    d = dict()\n",
    "    for c in s:\n",
    "        d[c] = 1 + d.get(c, 0)\n",
    "    return d\n",
    "\n",
    "def most_frequent(string):\n",
    "    x = histogram(string)\n",
    "    \n",
    "    t = []\n",
    "    for char in x:\n",
    "        t.append((x[char], char))\n",
    "    \n",
    "    t.sort(reverse = True)\n",
    "    \n",
    "    res = []\n",
    "    for freq, char in t:\n",
    "        res.append(char)\n",
    "    \n",
    "    return res\n",
    "    \n",
    "\n",
    "\n",
    "print most_frequent('happy')\n",
    "print most_frequent('pippy')\n",
    "print most_frequent('hello')"
   ]
  },
  {
   "cell_type": "markdown",
   "metadata": {
    "is_question": true,
    "problem": "Exercise 12.6"
   },
   "source": [
    "### Challenge: Exercise 6   (optional)\n",
    "\n",
    "From a [Car Talk Puzzler](http://www.cartalk.com/content/puzzlers):\n",
    "\n",
    "What is the longest English word, that remains a valid English word, as you remove its letters one at a time?\n",
    "\n",
    "Now, letters can be removed from either end, or the middle, but you can’t rearrange any of the letters. Every time you drop a letter, you wind up with another English word. If you do that, you’re eventually going to wind up with one letter and that too is going to be an English word—one that’s found in the dictionary. I want to know what’s the longest word and how many letters does it have?\n",
    "\n",
    "I’m going to give you a little modest example: Sprite. Ok? You start off with sprite, you take a letter off, one from the interior of the word, take the r away, and we’re left with the word spite, then we take the e off the end, we’re left with spit, we take the s off, we’re left with pit, it, and I. \n",
    "\n",
    "Write a program to find all words that can be reduced in this way, and then find the longest one.\n",
    "\n",
    "This exercise is a little more challenging than most, so here are some suggestions:\n",
    "\n",
    "- You might want to write a function that takes a word and computes a list of all the words that can be formed by removing one letter. These are the “children” of the word.\n",
    "- Recursively, a word is reducible if any of its children are reducible. As a base case, you can consider the empty string reducible.\n",
    "- The word list from [Chapter 9.1](http://www.greenteapress.com/thinkpython/html/thinkpython010.html) Exercise 1 doesn’t contain single letter words. So you might want to add “I”, “a”, and the empty string.\n",
    "- To improve the performance of your program, you might want to memoize the words that are known to be reducible.\n",
    "\n",
    "Allen's solution: http://thinkpython.com/code/reducible.py."
   ]
  },
  {
   "cell_type": "code",
   "execution_count": null,
   "metadata": {
    "collapsed": true,
    "solution": "Exercise 12.6"
   },
   "outputs": [],
   "source": []
  },
  {
   "cell_type": "markdown",
   "metadata": {
    "is_question": true,
    "problem": "Feedback"
   },
   "source": [
    "## Reading Journal feedback\n",
    "\n",
    "Have any comments on this Reading Journal? Feel free to leave them below and we'll read them when you submit your journal entry. This could include suggestions to improve the exercises, topics you'd like to see covered in class next time, or other feedback.\n",
    "\n",
    "If you have Python questions or run into problems while completing the reading, you should post them to Piazza instead so you can get a quick response before your journal is submitted."
   ]
  },
  {
   "cell_type": "markdown",
   "metadata": {
    "feedback_response": true,
    "solution": "Feedback"
   },
   "source": [
    " "
   ]
  }
 ],
 "metadata": {
  "celltoolbar": "Edit Metadata",
  "kernelspec": {
   "display_name": "Python 2",
   "language": "python",
   "name": "python2"
  },
  "language_info": {
   "codemirror_mode": {
    "name": "ipython",
    "version": 2
   },
   "file_extension": ".py",
   "mimetype": "text/x-python",
   "name": "python",
   "nbconvert_exporter": "python",
   "pygments_lexer": "ipython2",
   "version": "2.7.6"
  }
 },
 "nbformat": 4,
 "nbformat_minor": 0
}
